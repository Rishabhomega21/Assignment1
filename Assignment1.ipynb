{
  "nbformat": 4,
  "nbformat_minor": 0,
  "metadata": {
    "colab": {
      "provenance": []
    },
    "kernelspec": {
      "name": "python3",
      "display_name": "Python 3"
    },
    "language_info": {
      "name": "python"
    }
  },
  "cells": [
    {
      "cell_type": "markdown",
      "source": [
        "#Question 1: The Road Trip Planner"
      ],
      "metadata": {
        "id": "IGYF0EHJe6TF"
      }
    },
    {
      "cell_type": "code",
      "execution_count": 98,
      "metadata": {
        "colab": {
          "base_uri": "https://localhost:8080/",
          "height": 125
        },
        "id": "NjE9_A25ZK_Y",
        "outputId": "90b1b030-48a3-402a-af46-a017812d942c"
      },
      "outputs": [
        {
          "output_type": "stream",
          "name": "stdout",
          "text": [
            "a. Fuel needed (liters): 41.30434782608695\n"
          ]
        },
        {
          "output_type": "execute_result",
          "data": {
            "text/plain": [
              "'To find out how many liters of fuel are needed for the trip, we divide the total distance of the trip by the fuel efficiency of the car. Since the trip is 475 kilometers long and the car runs 11.5 kilometers on one liter of fuel, we calculate 475 ÷ 11.5, which gives us approximately 41.3 liters. This means the car would consume about 41.3 liters of fuel during the entire road trip.'"
            ],
            "application/vnd.google.colaboratory.intrinsic+json": {
              "type": "string"
            }
          },
          "metadata": {},
          "execution_count": 98
        }
      ],
      "source": [
        "# A: How many liters of fuel will you need?\n",
        "\n",
        "# Given values\n",
        "\n",
        "fuel_efficiency = 11.5  # kilometers per liter\n",
        "total_distance = 475    # kilometers\n",
        "fuel_price = 1.65       # dollars per liter\n",
        "tank_capacity = 50      # liters\n",
        "\n",
        "# Calculate fuel needed\n",
        "fuel_needed = total_distance / fuel_efficiency\n",
        "print(\"a. Fuel needed (liters):\", fuel_needed)\n",
        "\n",
        "'''To find out how many liters of fuel are needed for the trip, we divide the total distance of the trip by the fuel efficiency of the car. Since the trip is 475 kilometers long and the car runs 11.5 kilometers on one liter of fuel, we calculate 475 ÷ 11.5, which gives us approximately 41.3 liters. This means the car would consume about 41.3 liters of fuel during the entire road trip.'''"
      ]
    },
    {
      "cell_type": "code",
      "source": [
        "# B: How many full tanks of fuel does this represent?\n",
        "\n",
        "tank_capacity = 50  # liters\n",
        "\n",
        "# Calculate full tanks needed (using floor division)\n",
        "full_tanks = fuel_needed // tank_capacity\n",
        "print(\"b. Full tanks needed:\", full_tanks)\n",
        "\n",
        "'''Here, we use floor division to determine how many complete full tanks are needed to cover the fuel requirement. Since one tank holds 50 liters and we only need 41.3 liters for the trip, it means we don’t even need one full tank. Using floor division (//), Python returns 0.0, indicating that zero complete full tanks are required. However, in reality, we would still fill up at least once to have enough fuel.'''"
      ],
      "metadata": {
        "colab": {
          "base_uri": "https://localhost:8080/",
          "height": 125
        },
        "id": "OTVxqsAgcT-O",
        "outputId": "d9a7efdd-50a5-4374-a80e-098187940780"
      },
      "execution_count": 99,
      "outputs": [
        {
          "output_type": "stream",
          "name": "stdout",
          "text": [
            "b. Full tanks needed: 0.0\n"
          ]
        },
        {
          "output_type": "execute_result",
          "data": {
            "text/plain": [
              "'Here, we use floor division to determine how many complete full tanks are needed to cover the fuel requirement. Since one tank holds 50 liters and we only need 41.3 liters for the trip, it means we don’t even need one full tank. Using floor division (//), Python returns 0.0, indicating that zero complete full tanks are required. However, in reality, we would still fill up at least once to have enough fuel.'"
            ],
            "application/vnd.google.colaboratory.intrinsic+json": {
              "type": "string"
            }
          },
          "metadata": {},
          "execution_count": 99
        }
      ]
    },
    {
      "cell_type": "code",
      "source": [
        "# C: What is the total estimated fuel cost for the trip?\n",
        "\n",
        "fuel_price = 1.65  # dollars per liter\n",
        "\n",
        "# Calculate total cost\n",
        "total_cost = fuel_needed * fuel_price\n",
        "print(\"c. Total fuel cost ($):\", total_cost)\n",
        "\n",
        "'''To find out the cost of the fuel required for the trip, we multiply the number of liters needed (41.3) by the cost per liter, which is $1.65. This gives us approximately $68.15. So, the total estimated cost for the fuel needed on this road trip is about 68 dollars and 15 cents.'''"
      ],
      "metadata": {
        "colab": {
          "base_uri": "https://localhost:8080/",
          "height": 89
        },
        "id": "J4XQe035c0re",
        "outputId": "d3e3a48a-0e2d-4dff-c0e8-c9a0306abe5b"
      },
      "execution_count": 100,
      "outputs": [
        {
          "output_type": "stream",
          "name": "stdout",
          "text": [
            "c. Total fuel cost ($): 68.15217391304347\n"
          ]
        },
        {
          "output_type": "execute_result",
          "data": {
            "text/plain": [
              "'To find out the cost of the fuel required for the trip, we multiply the number of liters needed (41.3) by the cost per liter, which is $1.65. This gives us approximately $68.15. So, the total estimated cost for the fuel needed on this road trip is about 68 dollars and 15 cents.'"
            ],
            "application/vnd.google.colaboratory.intrinsic+json": {
              "type": "string"
            }
          },
          "metadata": {},
          "execution_count": 100
        }
      ]
    },
    {
      "cell_type": "code",
      "source": [
        "# D: How many liters of fuel will remain after the trip?\n",
        "\n",
        "# Remaining fuel from full tank after trip\n",
        "remaining_fuel = tank_capacity - fuel_needed\n",
        "print(\"d. Remaining fuel in tank (liters):\", remaining_fuel)\n",
        "\n",
        "'''Assuming we start the trip with a full tank of 50 liters, and we use approximately 41.3 liters during the trip, the remaining fuel at the end of the trip will be 50 - 41.3, which is approximately 8.7 liters. So, even after completing the road trip, there will be around 8.7 liters of fuel still left in the tank.'''"
      ],
      "metadata": {
        "colab": {
          "base_uri": "https://localhost:8080/",
          "height": 107
        },
        "id": "LmYh9RqmeXK7",
        "outputId": "a7949ea7-9a0f-4990-96d3-f9977a1bf9f5"
      },
      "execution_count": 101,
      "outputs": [
        {
          "output_type": "stream",
          "name": "stdout",
          "text": [
            "d. Remaining fuel in tank (liters): 8.695652173913047\n"
          ]
        },
        {
          "output_type": "execute_result",
          "data": {
            "text/plain": [
              "'Assuming we start the trip with a full tank of 50 liters, and we use approximately 41.3 liters during the trip, the remaining fuel at the end of the trip will be 50 - 41.3, which is approximately 8.7 liters. So, even after completing the road trip, there will be around 8.7 liters of fuel still left in the tank.'"
            ],
            "application/vnd.google.colaboratory.intrinsic+json": {
              "type": "string"
            }
          },
          "metadata": {},
          "execution_count": 101
        }
      ]
    },
    {
      "cell_type": "markdown",
      "source": [
        "#Question 2: Theme Park Entry Rules"
      ],
      "metadata": {
        "id": "BNM1hOwZrYyY"
      }
    },
    {
      "cell_type": "code",
      "source": [
        "# A: Boolean expression to check discount eligibility\n",
        "\n",
        "# Variables\n",
        "age = 30\n",
        "is_weekday = True\n",
        "is_family_day = False\n",
        "group_size = 3\n",
        "\n",
        "# Discount rule\n",
        "gets_discount = ((age <= 12 and is_weekday) or (age >= 65) or (is_family_day and group_size >= 4))\n",
        "print(\"a. Gets discount:\", gets_discount)\n",
        "\n",
        "'''In this part, we are evaluating whether a person is eligible for a discount at a theme park. The rules for the discount are: the person is 12 or younger and it's a weekday, or the person is 65 or older, or it's Family Day and they are part of a group of 4 or more. In this case, the person is 30 years old (not a child or senior), it's a weekday, but it’s not Family Day and the group size is only 3. So none of the discount conditions are met, and the final result is False, meaning they don’t get a discount.'''"
      ],
      "metadata": {
        "colab": {
          "base_uri": "https://localhost:8080/",
          "height": 143
        },
        "id": "9r0LUsZDr9P_",
        "outputId": "ee25e985-4437-46bb-dd72-17e40d86dde0"
      },
      "execution_count": 103,
      "outputs": [
        {
          "output_type": "stream",
          "name": "stdout",
          "text": [
            "a. Gets discount: False\n"
          ]
        },
        {
          "output_type": "execute_result",
          "data": {
            "text/plain": [
              "\"In this part, we are evaluating whether a person is eligible for a discount at a theme park. The rules for the discount are: the person is 12 or younger and it's a weekday, or the person is 65 or older, or it's Family Day and they are part of a group of 4 or more. In this case, the person is 30 years old (not a child or senior), it's a weekday, but it’s not Family Day and the group size is only 3. So none of the discount conditions are met, and the final result is False, meaning they don’t get a discount.\""
            ],
            "application/vnd.google.colaboratory.intrinsic+json": {
              "type": "string"
            }
          },
          "metadata": {},
          "execution_count": 103
        }
      ]
    },
    {
      "cell_type": "code",
      "source": [
        "# B: Test the expression with new values\n",
        "\n",
        "# New values\n",
        "age = 10\n",
        "is_weekday = True\n",
        "is_family_day = False\n",
        "group_size = 2\n",
        "\n",
        "# Reevaluate\n",
        "gets_discount = ((age <= 12 and is_weekday) or (age >= 65) or (is_family_day and group_size >= 4))\n",
        "print(\"b. Gets discount:\", gets_discount)\n",
        "\n",
        "'''In this updated example, the person is 10 years old and it’s a weekday. That satisfies the first condition (age <= 12 and is_weekday), which is enough to qualify for a discount. The other two conditions (senior and Family Day group) are false, but because one of the conditions is true, the final result is True. This means the person does qualify for a discount under the current conditions.'''"
      ],
      "metadata": {
        "colab": {
          "base_uri": "https://localhost:8080/",
          "height": 125
        },
        "id": "BTx819xPtXCh",
        "outputId": "f9291884-65e9-4450-b12e-014da255527f"
      },
      "execution_count": 105,
      "outputs": [
        {
          "output_type": "stream",
          "name": "stdout",
          "text": [
            "b. Gets discount: True\n"
          ]
        },
        {
          "output_type": "execute_result",
          "data": {
            "text/plain": [
              "'In this updated example, the person is 10 years old and it’s a weekday. That satisfies the first condition (age <= 12 and is_weekday), which is enough to qualify for a discount. The other two conditions (senior and Family Day group) are false, but because one of the conditions is true, the final result is True. This means the person does qualify for a discount under the current conditions.'"
            ],
            "application/vnd.google.colaboratory.intrinsic+json": {
              "type": "string"
            }
          },
          "metadata": {},
          "execution_count": 105
        }
      ]
    },
    {
      "cell_type": "code",
      "source": [
        "# C: Explain step-by-step logic\n",
        "\n",
        "# Evaluate the expression step by step\n",
        "print(\"Age <= 12 and Weekday:\", (age <= 12 and is_weekday))     # True\n",
        "print(\"Senior (age >= 65):\", (age >= 65))                        # False\n",
        "print(\"Family Day and group >= 4:\", (is_family_day and group_size >= 4))  # False\n",
        "\n",
        "# Final result\n",
        "gets_discount = ((age <= 12 and is_weekday) or (age >= 65) or (is_family_day and group_size >= 4))\n",
        "print(\"c. Final Result:\", gets_discount)\n",
        "\n",
        "'''To help understand how the final result is determined, we break the condition into three smaller checks. First, we check if the person is 12 or under and it’s a weekday, which is True in this case. Then we check if the person is 65 or older, which is False. Finally, we check if it's Family Day and they’re in a group of 4 or more, which is also False. When we combine all these with or, only one condition needs to be true for the overall expression to be true. Since the first condition is true, the final result is also True, meaning the person qualifies for the discount.'''"
      ],
      "metadata": {
        "colab": {
          "base_uri": "https://localhost:8080/",
          "height": 214
        },
        "id": "-F8cX-vOxEr6",
        "outputId": "fe5acb20-2f1c-490c-ec0f-a7376bbed9c4"
      },
      "execution_count": 107,
      "outputs": [
        {
          "output_type": "stream",
          "name": "stdout",
          "text": [
            "Age <= 12 and Weekday: True\n",
            "Senior (age >= 65): False\n",
            "Family Day and group >= 4: False\n",
            "c. Final Result: True\n"
          ]
        },
        {
          "output_type": "execute_result",
          "data": {
            "text/plain": [
              "\"To help understand how the final result is determined, we break the condition into three smaller checks. First, we check if the person is 12 or under and it’s a weekday, which is True in this case. Then we check if the person is 65 or older, which is False. Finally, we check if it's Family Day and they’re in a group of 4 or more, which is also False. When we combine all these with or, only one condition needs to be true for the overall expression to be true. Since the first condition is true, the final result is also True, meaning the person qualifies for the discount.\""
            ],
            "application/vnd.google.colaboratory.intrinsic+json": {
              "type": "string"
            }
          },
          "metadata": {},
          "execution_count": 107
        }
      ]
    },
    {
      "cell_type": "markdown",
      "source": [
        "#Question 3: Message Decoder"
      ],
      "metadata": {
        "id": "_eMivSZbxpa9"
      }
    },
    {
      "cell_type": "code",
      "source": [
        "# A: What is the character at index 5 of secret_message?\n",
        "\n",
        "secret_message = \"PyThoN_Is_FuN_AnD_PoWeRfUl!\"\n",
        "char_at_5 = secret_message[5]\n",
        "print(\"Character at index 5:\", char_at_5)\n",
        "\n",
        "'''In Python, string indexing starts from 0. So, secret_message[5] refers to the sixth character in the string. If we count from index 0 up to 5, the sixth character is 'N'. This demonstrates how positive indexing works with strings.'''"
      ],
      "metadata": {
        "colab": {
          "base_uri": "https://localhost:8080/",
          "height": 89
        },
        "id": "xgYcp87xxyNH",
        "outputId": "05aafdd8-93d4-453b-8103-97bc89f42817"
      },
      "execution_count": 109,
      "outputs": [
        {
          "output_type": "stream",
          "name": "stdout",
          "text": [
            "Character at index 5: N\n"
          ]
        },
        {
          "output_type": "execute_result",
          "data": {
            "text/plain": [
              "\"In Python, string indexing starts from 0. So, secret_message[5] refers to the sixth character in the string. If we count from index 0 up to 5, the sixth character is 'N'. This demonstrates how positive indexing works with strings.\""
            ],
            "application/vnd.google.colaboratory.intrinsic+json": {
              "type": "string"
            }
          },
          "metadata": {},
          "execution_count": 109
        }
      ]
    },
    {
      "cell_type": "code",
      "source": [
        "# B: Using positive indexing and slicing, extract the substring \"Is_FuN\"\n",
        "\n",
        "substring_positive = secret_message[7:13]\n",
        "print(\"Substring using positive indexing:\", substring_positive)\n",
        "\n",
        "'''Using positive slicing, secret_message[7:13] extracts characters starting from index 7 up to, but not including, index 13. Counting from index 7 gives us the substring 'Is_FuN'.'''"
      ],
      "metadata": {
        "colab": {
          "base_uri": "https://localhost:8080/",
          "height": 71
        },
        "id": "3n2ZaJfgyASY",
        "outputId": "30491432-f617-4f42-b0c1-15ff32ed7a96"
      },
      "execution_count": 110,
      "outputs": [
        {
          "output_type": "stream",
          "name": "stdout",
          "text": [
            "Substring using positive indexing: Is_FuN\n"
          ]
        },
        {
          "output_type": "execute_result",
          "data": {
            "text/plain": [
              "\"Using positive slicing, secret_message[7:13] extracts characters starting from index 7 up to, but not including, index 13. Counting from index 7 gives us the substring 'Is_FuN'.\""
            ],
            "application/vnd.google.colaboratory.intrinsic+json": {
              "type": "string"
            }
          },
          "metadata": {},
          "execution_count": 110
        }
      ]
    },
    {
      "cell_type": "code",
      "source": [
        "# C: Using negative indexing and slicing, extract the substring \"PoWeRfUl\"\n",
        "\n",
        "substring_negative = secret_message[-9:-1]\n",
        "print(\"Substring using negative indexing:\", substring_negative)\n",
        "\n",
        "'''Negative indexing in Python starts from -1 for the last character. Here, -9 refers to the 9th character from the end, which is 'P', and -1 excludes the last character '!'. So the slice secret_message[-9:-1] gives us the substring 'PoWeRfUl'.'''"
      ],
      "metadata": {
        "colab": {
          "base_uri": "https://localhost:8080/",
          "height": 89
        },
        "id": "pUXT7jmDyKrt",
        "outputId": "940e9e97-4f97-4871-ee8a-0cea3f0380ae"
      },
      "execution_count": 113,
      "outputs": [
        {
          "output_type": "stream",
          "name": "stdout",
          "text": [
            "Substring using negative indexing: PoWeRfUl\n"
          ]
        },
        {
          "output_type": "execute_result",
          "data": {
            "text/plain": [
              "\"Negative indexing in Python starts from -1 for the last character. Here, -9 refers to the 9th character from the end, which is 'P', and -1 excludes the last character '!'. So the slice secret_message[-9:-1] gives us the substring 'PoWeRfUl'.\""
            ],
            "application/vnd.google.colaboratory.intrinsic+json": {
              "type": "string"
            }
          },
          "metadata": {},
          "execution_count": 113
        }
      ]
    },
    {
      "cell_type": "code",
      "source": [
        "# D: Create a new string that consists of every 4th character, starting from index 0\n",
        "\n",
        "secret_message = \"PyThoN_Is_FuN_AnD_PoWeRfUl!\"\n",
        "every_fourth = secret_message[0::4]\n",
        "print(\"Every 4th character:\", every_fourth)\n",
        "\n",
        "'''In this task, we are using slicing to retrieve every 4th character from the string secret_message, starting at index 0. The slicing syntax used is secret_message[0::4], which means \"start at index 0 and take every 4th character until the end of the string'''"
      ],
      "metadata": {
        "colab": {
          "base_uri": "https://localhost:8080/",
          "height": 89
        },
        "id": "JvYW0iUayR0N",
        "outputId": "8d2aaa76-85ef-4ad0-b507-767ac3108008"
      },
      "execution_count": 120,
      "outputs": [
        {
          "output_type": "stream",
          "name": "stdout",
          "text": [
            "Every 4th character: PosNDWU\n"
          ]
        },
        {
          "output_type": "execute_result",
          "data": {
            "text/plain": [
              "'In this task, we are using slicing to retrieve every 4th character from the string secret_message, starting at index 0. The slicing syntax used is secret_message[0::4], which means \"start at index 0 and take every 4th character until the end of the string'"
            ],
            "application/vnd.google.colaboratory.intrinsic+json": {
              "type": "string"
            }
          },
          "metadata": {},
          "execution_count": 120
        }
      ]
    },
    {
      "cell_type": "code",
      "source": [
        "# E: What happens if you try to access secret_message[50]?\n",
        "\n",
        "secret_message = \"PyThoN_Is_FuN_AnD_PoWeRfUl!\"\n",
        "print(secret_message[50])\n",
        "\n",
        "'''In this part of the question, we are trying to access the character at index 50 of the string secret_message. However, the actual length of the string is only 27 characters (indices 0 to 26). Python strings are zero-indexed, meaning the last character of the string is at index len(secret_message) - 1. When we try to access an index beyond this range — in this case, index 50 — Python raises an IndexError because that position does not exist in memory for this string. This error helps prevent unintended behavior in your program by alerting you when you’re trying to access an invalid position in a sequence like a string, list, or tuple.'''"
      ],
      "metadata": {
        "colab": {
          "base_uri": "https://localhost:8080/",
          "height": 323
        },
        "id": "jKVv_BSsyZuN",
        "outputId": "0de938ac-6bc8-40d1-e9c9-aa41517f901c"
      },
      "execution_count": 121,
      "outputs": [
        {
          "output_type": "error",
          "ename": "IndexError",
          "evalue": "string index out of range",
          "traceback": [
            "\u001b[0;31m---------------------------------------------------------------------------\u001b[0m",
            "\u001b[0;31mIndexError\u001b[0m                                Traceback (most recent call last)",
            "\u001b[0;32m<ipython-input-121-dab4074d4508>\u001b[0m in \u001b[0;36m<cell line: 0>\u001b[0;34m()\u001b[0m\n\u001b[1;32m      2\u001b[0m \u001b[0;34m\u001b[0m\u001b[0m\n\u001b[1;32m      3\u001b[0m \u001b[0msecret_message\u001b[0m \u001b[0;34m=\u001b[0m \u001b[0;34m\"PyThoN_Is_FuN_AnD_PoWeRfUl!\"\u001b[0m\u001b[0;34m\u001b[0m\u001b[0;34m\u001b[0m\u001b[0m\n\u001b[0;32m----> 4\u001b[0;31m \u001b[0mprint\u001b[0m\u001b[0;34m(\u001b[0m\u001b[0msecret_message\u001b[0m\u001b[0;34m[\u001b[0m\u001b[0;36m50\u001b[0m\u001b[0;34m]\u001b[0m\u001b[0;34m)\u001b[0m\u001b[0;34m\u001b[0m\u001b[0;34m\u001b[0m\u001b[0m\n\u001b[0m\u001b[1;32m      5\u001b[0m \u001b[0;34m\u001b[0m\u001b[0m\n\u001b[1;32m      6\u001b[0m \u001b[0;34m'''In this part of the question, we are trying to access the character at index 50 of the string secret_message. However, the actual length of the string is only 27 characters (indices 0 to 26). Python strings are zero-indexed, meaning the last character of the string is at index len(secret_message) - 1. When we try to access an index beyond this range — in this case, index 50 — Python raises an IndexError because that position does not exist in memory for this string. This error helps prevent unintended behavior in your program by alerting you when you’re trying to access an invalid position in a sequence like a string, list, or tuple.'''\u001b[0m\u001b[0;34m\u001b[0m\u001b[0;34m\u001b[0m\u001b[0m\n",
            "\u001b[0;31mIndexError\u001b[0m: string index out of range"
          ]
        }
      ]
    },
    {
      "cell_type": "markdown",
      "source": [
        "#Question 4: Predict and Verify"
      ],
      "metadata": {
        "id": "Dxff5CusJhR8"
      }
    },
    {
      "cell_type": "code",
      "source": [
        "# A: (x == z) and (y > x)\n",
        "\n",
        "x = 15\n",
        "y = 25\n",
        "z = 15\n",
        "text = \"adventure\"\n",
        "\n",
        "result_a = (x == z) and (y > x)\n",
        "print(result_a)\n",
        "\n",
        "'''In this expression, the first condition (x == z) checks if x (which is 15) is equal to z (which is also 15). This results in True. The second condition (y > x) checks if y (which is 25) is greater than x (which is 15), and this also results in True. Since both conditions are true and they are connected by the logical and operator, the result of the expression is True. Both conditions need to be true for the and operator to return True.'''"
      ],
      "metadata": {
        "colab": {
          "base_uri": "https://localhost:8080/",
          "height": 125
        },
        "id": "xaKZYAM5yrOz",
        "outputId": "8787b442-0b7f-4140-f7ff-7be96cde976d"
      },
      "execution_count": 123,
      "outputs": [
        {
          "output_type": "stream",
          "name": "stdout",
          "text": [
            "True\n"
          ]
        },
        {
          "output_type": "execute_result",
          "data": {
            "text/plain": [
              "'In this expression, the first condition (x == z) checks if x (which is 15) is equal to z (which is also 15). This results in True. The second condition (y > x) checks if y (which is 25) is greater than x (which is 15), and this also results in True. Since both conditions are true and they are connected by the logical and operator, the result of the expression is True. Both conditions need to be true for the and operator to return True.'"
            ],
            "application/vnd.google.colaboratory.intrinsic+json": {
              "type": "string"
            }
          },
          "metadata": {},
          "execution_count": 123
        }
      ]
    },
    {
      "cell_type": "code",
      "source": [
        "# B: (x != z) or (y < x) or (len(text) < 5)\n",
        "\n",
        "result_b = (x != z) or (y < x) or (len(text) < 5)\n",
        "print(result_b)\n",
        "\n",
        "'''Here, the expression checks three conditions using the logical or operator. The first condition (x != z) compares whether x (15) is not equal to z (15), which is False. The second condition (y < x) compares if y (25) is less than x (15), which is also False. The third condition (len(text) < 5) checks if the length of the string \"adventure\" is less than 5, but the length is 9, so this is False as well. Since all three conditions are False and they're connected by or, the final result of the expression is False because, for or to return True, at least one condition needs to be True.'''"
      ],
      "metadata": {
        "colab": {
          "base_uri": "https://localhost:8080/",
          "height": 160
        },
        "id": "7Z6SL4FpywVh",
        "outputId": "3859a4be-d3a5-4dbe-e62e-02443882b8a3"
      },
      "execution_count": 124,
      "outputs": [
        {
          "output_type": "stream",
          "name": "stdout",
          "text": [
            "False\n"
          ]
        },
        {
          "output_type": "execute_result",
          "data": {
            "text/plain": [
              "'Here, the expression checks three conditions using the logical or operator. The first condition (x != z) compares whether x (15) is not equal to z (15), which is False. The second condition (y < x) compares if y (25) is less than x (15), which is also False. The third condition (len(text) < 5) checks if the length of the string \"adventure\" is less than 5, but the length is 9, so this is False as well. Since all three conditions are False and they\\'re connected by or, the final result of the expression is False because, for or to return True, at least one condition needs to be True.'"
            ],
            "application/vnd.google.colaboratory.intrinsic+json": {
              "type": "string"
            }
          },
          "metadata": {},
          "execution_count": 124
        }
      ]
    },
    {
      "cell_type": "code",
      "source": [
        "# C: not ((x > y) and (text == \"Adventure\"))\n",
        "\n",
        "result_c = not ((x > y) and (text == \"Adventure\"))\n",
        "print(result_c)\n",
        "\n",
        "'''This expression uses the not operator to negate the result of the inner expression. The inner expression checks two conditions:\n",
        "\n",
        "(x > y) checks if 15 is greater than 25, which is False.\n",
        "\n",
        "(text == \"Adventure\") checks if \"adventure\" is equal to \"Adventure\". The case difference makes this comparison False.\n",
        "\n",
        "The and operator requires both conditions to be True for the result to be True, but since both conditions are False, the overall result of the inner expression is False. Then, the not operator negates this result, making it True.'''\n"
      ],
      "metadata": {
        "colab": {
          "base_uri": "https://localhost:8080/",
          "height": 143
        },
        "id": "c_iZ_lGqy1eP",
        "outputId": "0c0bfcd1-a020-4932-d302-0d88c6a72440"
      },
      "execution_count": 125,
      "outputs": [
        {
          "output_type": "stream",
          "name": "stdout",
          "text": [
            "True\n"
          ]
        },
        {
          "output_type": "execute_result",
          "data": {
            "text/plain": [
              "'This expression uses the not operator to negate the result of the inner expression. The inner expression checks two conditions:\\n\\n(x > y) checks if 15 is greater than 25, which is False.\\n\\n(text == \"Adventure\") checks if \"adventure\" is equal to \"Adventure\". The case difference makes this comparison False.\\n\\nThe and operator requires both conditions to be True for the result to be True, but since both conditions are False, the overall result of the inner expression is False. Then, the not operator negates this result, making it True.'"
            ],
            "application/vnd.google.colaboratory.intrinsic+json": {
              "type": "string"
            }
          },
          "metadata": {},
          "execution_count": 125
        }
      ]
    },
    {
      "cell_type": "markdown",
      "source": [
        "#Question 5: User Profile Setup"
      ],
      "metadata": {
        "id": "1OOodiSIzUHZ"
      }
    },
    {
      "cell_type": "code",
      "source": [
        "# A: Changing the first letter of a string.\n",
        "\n",
        "username = \"MyUser123\"\n",
        "username[0] = 'm'\n",
        "\n",
        "'''In Python, strings are immutable, meaning that their individual characters cannot be changed once the string is created. When attempting to assign 'm' to username[0], Python raises a TypeError because it doesn't allow modifications to string elements directly. To modify the string, you'd have to create a new one, such as by using slicing or concatenation.'''"
      ],
      "metadata": {
        "colab": {
          "base_uri": "https://localhost:8080/",
          "height": 269
        },
        "id": "rNVmkOBOKcOE",
        "outputId": "5ae995bb-5286-49c0-aca7-23265465ecb2"
      },
      "execution_count": 126,
      "outputs": [
        {
          "output_type": "error",
          "ename": "TypeError",
          "evalue": "'str' object does not support item assignment",
          "traceback": [
            "\u001b[0;31m---------------------------------------------------------------------------\u001b[0m",
            "\u001b[0;31mTypeError\u001b[0m                                 Traceback (most recent call last)",
            "\u001b[0;32m<ipython-input-126-7e72642ff26d>\u001b[0m in \u001b[0;36m<cell line: 0>\u001b[0;34m()\u001b[0m\n\u001b[1;32m      2\u001b[0m \u001b[0;34m\u001b[0m\u001b[0m\n\u001b[1;32m      3\u001b[0m \u001b[0musername\u001b[0m \u001b[0;34m=\u001b[0m \u001b[0;34m\"MyUser123\"\u001b[0m\u001b[0;34m\u001b[0m\u001b[0;34m\u001b[0m\u001b[0m\n\u001b[0;32m----> 4\u001b[0;31m \u001b[0musername\u001b[0m\u001b[0;34m[\u001b[0m\u001b[0;36m0\u001b[0m\u001b[0;34m]\u001b[0m \u001b[0;34m=\u001b[0m \u001b[0;34m'm'\u001b[0m\u001b[0;34m\u001b[0m\u001b[0;34m\u001b[0m\u001b[0m\n\u001b[0m\u001b[1;32m      5\u001b[0m \u001b[0;34m\u001b[0m\u001b[0m\n\u001b[1;32m      6\u001b[0m \u001b[0;34m'''In Python, strings are immutable, meaning that their individual characters cannot be changed once the string is created. When attempting to assign 'm' to username[0], Python raises a TypeError because it doesn't allow modifications to string elements directly. To modify the string, you'd have to create a new one, such as by using slicing or concatenation.'''\u001b[0m\u001b[0;34m\u001b[0m\u001b[0;34m\u001b[0m\u001b[0m\n",
            "\u001b[0;31mTypeError\u001b[0m: 'str' object does not support item assignment"
          ]
        }
      ]
    },
    {
      "cell_type": "code",
      "source": [
        "# B: Modifying a string with multiple transformations.\n",
        "\n",
        "quote = \" practice makes perfect \"\n",
        "\n",
        "# Step 1: Remove whitespace\n",
        "quote = quote.strip()\n",
        "\n",
        "# Step 2: Convert to uppercase\n",
        "quote = quote.upper()\n",
        "\n",
        "# Step 3: Replace PERFECT with PROGRESS\n",
        "formatted_quote = quote.replace(\"PERFECT\", \"PROGRESS\")\n",
        "\n",
        "print(formatted_quote)\n",
        "\n",
        "'''In this part, we first remove extra spaces at the beginning and end of the string using .strip(). Then, we convert the entire string to uppercase with .upper(). Finally, we replace the word \"PERFECT\" with \"PROGRESS\" using .replace(). The final result is \"PRACTICE MAKES PROGRESS\".'''"
      ],
      "metadata": {
        "colab": {
          "base_uri": "https://localhost:8080/",
          "height": 89
        },
        "id": "RsoKWiRYKnIx",
        "outputId": "1911dc4f-7a63-48b8-e6ff-3236e77eb643"
      },
      "execution_count": 128,
      "outputs": [
        {
          "output_type": "stream",
          "name": "stdout",
          "text": [
            "PRACTICE MAKES PROGRESS\n"
          ]
        },
        {
          "output_type": "execute_result",
          "data": {
            "text/plain": [
              "'In this part, we first remove extra spaces at the beginning and end of the string using .strip(). Then, we convert the entire string to uppercase with .upper(). Finally, we replace the word \"PERFECT\" with \"PROGRESS\" using .replace(). The final result is \"PRACTICE MAKES PROGRESS\".'"
            ],
            "application/vnd.google.colaboratory.intrinsic+json": {
              "type": "string"
            }
          },
          "metadata": {},
          "execution_count": 128
        }
      ]
    },
    {
      "cell_type": "code",
      "source": [
        "# C: Comparing string lengths before and after transformation.\n",
        "\n",
        "quote = \" practice makes perfect \"\n",
        "\n",
        "# Perform the transformations as per the instruction\n",
        "quote = quote.strip()  # Remove leading and trailing whitespaces\n",
        "quote = quote.upper()  # Convert to uppercase\n",
        "formatted_quote = quote.replace(\"PERFECT\", \"PROGRESS\")  # Replace \"PERFECT\" with \"PROGRESS\"\n",
        "\n",
        "# Length of the original quote (including spaces)\n",
        "original_length = len(\" practice makes perfect \")\n",
        "\n",
        "# Length of the formatted quote\n",
        "formatted_length = len(formatted_quote)\n",
        "\n",
        "print(\"Original Length:\", original_length)\n",
        "print(\"Formatted Length:\", formatted_length)\n",
        "\n",
        "'''The len() function in Python counts the number of characters in a string, including spaces. In this example, the original quote has 24 characters because it includes spaces at the beginning and end. After removing those spaces with strip(), changing the text to uppercase, and replacing \"PERFECT\" with \"PROGRESS\", the new string has 23 characters. This is because the extra spaces are removed, but the word \"PROGRESS\" is one letter longer than \"PERFECT\". So, the length changes slightly after these transformations.'''"
      ],
      "metadata": {
        "colab": {
          "base_uri": "https://localhost:8080/",
          "height": 160
        },
        "id": "AHz-Fd7tLA3V",
        "outputId": "84b64426-a92c-4386-96cf-5dffbd24441a"
      },
      "execution_count": 132,
      "outputs": [
        {
          "output_type": "stream",
          "name": "stdout",
          "text": [
            "Original Length: 24\n",
            "Formatted Length: 23\n"
          ]
        },
        {
          "output_type": "execute_result",
          "data": {
            "text/plain": [
              "'The len() function in Python counts the number of characters in a string, including spaces. In this example, the original quote has 24 characters because it includes spaces at the beginning and end. After removing those spaces with strip(), changing the text to uppercase, and replacing \"PERFECT\" with \"PROGRESS\", the new string has 23 characters. This is because the extra spaces are removed, but the word \"PROGRESS\" is one letter longer than \"PERFECT\". So, the length changes slightly after these transformations.'"
            ],
            "application/vnd.google.colaboratory.intrinsic+json": {
              "type": "string"
            }
          },
          "metadata": {},
          "execution_count": 132
        }
      ]
    },
    {
      "cell_type": "code",
      "source": [],
      "metadata": {
        "id": "tbEimtQxMuBq"
      },
      "execution_count": null,
      "outputs": []
    }
  ]
}